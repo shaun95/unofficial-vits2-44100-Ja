{
  "nbformat": 4,
  "nbformat_minor": 0,
  "metadata": {
    "colab": {
      "provenance": [],
      "gpuType": "T4"
    },
    "kernelspec": {
      "name": "python3",
      "display_name": "Python 3"
    },
    "language_info": {
      "name": "python"
    },
    "accelerator": "GPU"
  },
  "cells": [
    {
      "cell_type": "code",
      "source": [
        "# restart the runtime after installing any dependencies"
      ],
      "metadata": {
        "id": "nHgS_xYz1H-c"
      },
      "execution_count": 3,
      "outputs": []
    },
    {
      "cell_type": "code",
      "execution_count": null,
      "metadata": {
        "id": "kys2jeeG3DNp"
      },
      "outputs": [],
      "source": [
        "import torch\n",
        "torch.cuda.is_available()"
      ]
    },
    {
      "cell_type": "code",
      "source": [
        "torch.__version__"
      ],
      "metadata": {
        "id": "ZnCXDLuxTC6F"
      },
      "execution_count": null,
      "outputs": []
    },
    {
      "cell_type": "code",
      "source": [
        "!git clone https://github.com/p0p4k/vits2_pytorch.git"
      ],
      "metadata": {
        "id": "cd1L_Cig0bQr"
      },
      "execution_count": null,
      "outputs": []
    },
    {
      "cell_type": "code",
      "source": [
        "!pip install -r requirements.txt"
      ],
      "metadata": {
        "id": "sv1ZvoJe1UTn"
      },
      "execution_count": null,
      "outputs": []
    },
    {
      "cell_type": "code",
      "source": [
        "!wget -P /content/ https://data.keithito.com/data/speech/LJSpeech-1.1.tar.bz2"
      ],
      "metadata": {
        "id": "ECd7PZZZ1y6a"
      },
      "execution_count": null,
      "outputs": []
    },
    {
      "cell_type": "code",
      "source": [
        "!tar -xf /content/LJSpeech-1.1.tar.bz2 -C /content/"
      ],
      "metadata": {
        "id": "BTxWcsUX3PaL"
      },
      "execution_count": 2,
      "outputs": []
    },
    {
      "cell_type": "code",
      "source": [
        "!ln -s /content/LJSpeech-1.1/wavs /content/vits2_pytorch/DUMMY1"
      ],
      "metadata": {
        "id": "0fI6X8E_4qKA"
      },
      "execution_count": 3,
      "outputs": []
    },
    {
      "cell_type": "code",
      "source": [
        "import os"
      ],
      "metadata": {
        "id": "kbMhaz_uB_l7"
      },
      "execution_count": 2,
      "outputs": []
    },
    {
      "cell_type": "code",
      "source": [
        "os.chdir('/content/vits2_pytorch/monotonic_align')\n",
        "os.makedirs('/content/vits2_pytorch/monotonic_align/monotonic_align')\n",
        "!python setup.py build_ext --inplace"
      ],
      "metadata": {
        "id": "wslAfPiT51gz"
      },
      "execution_count": 10,
      "outputs": []
    },
    {
      "cell_type": "code",
      "source": [
        "!pip install torch torchvision torchaudio --index-url https://download.pytorch.org/whl/cu118"
      ],
      "metadata": {
        "id": "qlc4ztRJJdkX"
      },
      "execution_count": null,
      "outputs": []
    },
    {
      "cell_type": "code",
      "source": [
        "import os\n",
        "os.chdir('/content/vits2_pytorch/')\n",
        "!python train.py -c configs/vits2_ljs_nosdp.json -m ljs_base"
      ],
      "metadata": {
        "id": "jiPG-bd1636M"
      },
      "execution_count": null,
      "outputs": []
    }
  ]
}